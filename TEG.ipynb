{
 "cells": [
  {
   "cell_type": "code",
   "execution_count": 1,
   "id": "df1f7c3d",
   "metadata": {},
   "outputs": [],
   "source": [
    "import numpy as np\n",
    "import matplotlib.pyplot as plt "
   ]
  },
  {
   "cell_type": "code",
   "execution_count": 2,
   "id": "72257511",
   "metadata": {},
   "outputs": [],
   "source": [
    "def simteg(dicesAttacker, dicesDefendant, N=1000000):\n",
    "    a = np.random.randint(1,7,[dicesAttacker,N])\n",
    "    d = np.random.randint(1,7,[dicesDefendant,N])\n",
    "    \n",
    "    a_sorted = np.sort(a, axis=0)[-dicesDefendant:]\n",
    "    d_sorted = np.sort(d, axis=0)[-dicesAttacker:]\n",
    "    \n",
    "    wins = np.all(a_sorted > d_sorted, axis=0).sum()\n",
    "    return wins/N"
   ]
  },
  {
   "cell_type": "markdown",
   "id": "506cdc51",
   "metadata": {},
   "source": [
    "# 3vs3"
   ]
  },
  {
   "cell_type": "code",
   "execution_count": 3,
   "id": "09981c40",
   "metadata": {},
   "outputs": [],
   "source": [
    "rolls = []\n",
    "for A1 in range(1,7):\n",
    "    for A2 in range(1,7):\n",
    "        for A3 in range(1,7):\n",
    "            for D1 in range(1,7):\n",
    "                for D2 in range(1,7):\n",
    "                    for D3 in range(1,7):\n",
    "                        if A1 > A2 and A2 > A3 and D1 > D2 and D2 > D3:\n",
    "                            rolls.append([A1, A2, A3, D1, D2, D3])\n",
    "rolls = np.array(rolls)"
   ]
  },
  {
   "cell_type": "code",
   "execution_count": 4,
   "id": "0ada7c15",
   "metadata": {},
   "outputs": [
    {
     "data": {
      "text/plain": [
       "array([ 50,  77,  98, 175])"
      ]
     },
     "execution_count": 4,
     "metadata": {},
     "output_type": "execute_result"
    }
   ],
   "source": [
    "def count3v3(rolls):\n",
    "    rolls = np.asarray(rolls)\n",
    "    A1, A2, A3, D1, D2, D3 = rolls.T\n",
    "    G3 = np.sum((A1 > D1) & (A2 > D2) & (A3 > D3))\n",
    "    G2 = np.sum(\n",
    "        (A1 <= D1) & (A2 > D2) & (A3 > D3) |\n",
    "        (A1 > D1) & (A2 <= D2) & (A3 > D3) |\n",
    "        (A1 > D1) & (A2 > D2) & (A3 <= D3)\n",
    "    )\n",
    "    G1 = np.sum(\n",
    "        (A1 <= D1) & (A2 <= D2) & (A3 > D3) |\n",
    "        (A1 <= D1) & (A2 > D2) & (A3 <= D3) |\n",
    "        (A1 > D1) & (A2 <= D2) & (A3 <= D3)\n",
    "    )\n",
    "    G0 = np.sum((A1 <= D1) & (A2 <= D2) & (A3 <= D3))\n",
    "    return np.array([G3, G2, G1, G0])\n",
    "\n",
    "count3v3(rolls)\n"
   ]
  },
  {
   "cell_type": "code",
   "execution_count": 5,
   "id": "026a11ea",
   "metadata": {},
   "outputs": [],
   "source": [
    "cases_3v3 = {\n",
    "    \"Y1 = Y2 = Y3, Z1 = Z2 = Z3\": [],\n",
    "    \"Y1 = Y2 > Y3, Z1 = Z2 = Z3\": [],\n",
    "    \"Y1 > Y2 = Y3, Z1 = Z2 = Z3\": [],\n",
    "    \"Y1 > Y2 > Y3, Z1 = Z2 = Z3\": [],\n",
    "    \"Y1 = Y2 = Y3, Z1 = Z2 > Z3\": [],\n",
    "    \"Y1 = Y2 = Y3, Z1 > Z2 = Z3\": [],\n",
    "    \"Y1 = Y2 = Y3, Z1 > Z2 > Z3\": [],\n",
    "    \"Y1 = Y2 > Y3, Z1 = Z2 > Z3\": [],\n",
    "    \"Y1 = Y2 > Y3, Z1 > Z2 = Z3\": [],\n",
    "    \"Y1 = Y2 > Y3, Z1 > Z2 > Z3\": [],\n",
    "    \"Y1 > Y2 = Y3, Z1 = Z2 > Z3\": [],\n",
    "    \"Y1 > Y2 = Y3, Z1 > Z2 = Z3\": [],\n",
    "    \"Y1 > Y2 = Y3, Z1 > Z2 > Z3\": [],\n",
    "    \"Y1 > Y2 > Y3, Z1 = Z2 > Z3\": [],\n",
    "    \"Y1 > Y2 > Y3, Z1 > Z2 = Z3\": [],\n",
    "    \"Y1 > Y2 > Y3, Z1 > Z2 > Z3\": []\n",
    "}\n",
    "\n",
    "for Y1 in range(1, 7):\n",
    "    for Y2 in range(1, 7):\n",
    "        for Y3 in range(1, 7):\n",
    "            for Z1 in range(1, 7):\n",
    "                for Z2 in range(1, 7):\n",
    "                    for Z3 in range(1, 7):\n",
    "\n",
    "                        if (Y1 == Y2 == Y3) and (Z1 == Z2 == Z3):\n",
    "                            cases_3v3[\"Y1 = Y2 = Y3, Z1 = Z2 = Z3\"].append([Y1, Y2, Y3, Z1, Z2, Z3])\n",
    "                        elif (Y1 == Y2 > Y3) and (Z1 == Z2 == Z3):\n",
    "                            cases_3v3[\"Y1 = Y2 > Y3, Z1 = Z2 = Z3\"].append([Y1, Y2, Y3, Z1, Z2, Z3])\n",
    "                        elif (Y1 > Y2 == Y3) and (Z1 == Z2 == Z3):\n",
    "                            cases_3v3[\"Y1 > Y2 = Y3, Z1 = Z2 = Z3\"].append([Y1, Y2, Y3, Z1, Z2, Z3])\n",
    "                        elif (Y1 > Y2 > Y3) and (Z1 == Z2 == Z3):\n",
    "                            cases_3v3[\"Y1 > Y2 > Y3, Z1 = Z2 = Z3\"].append([Y1, Y2, Y3, Z1, Z2, Z3])\n",
    "                        elif (Y1 == Y2 == Y3) and (Z1 == Z2 > Z3):\n",
    "                            cases_3v3[\"Y1 = Y2 = Y3, Z1 = Z2 > Z3\"].append([Y1, Y2, Y3, Z1, Z2, Z3])\n",
    "                        elif (Y1 == Y2 == Y3) and (Z1 > Z2 == Z3):\n",
    "                            cases_3v3[\"Y1 = Y2 = Y3, Z1 > Z2 = Z3\"].append([Y1, Y2, Y3, Z1, Z2, Z3])\n",
    "                        elif (Y1 == Y2 == Y3) and (Z1 > Z2 > Z3):\n",
    "                            cases_3v3[\"Y1 = Y2 = Y3, Z1 > Z2 > Z3\"].append([Y1, Y2, Y3, Z1, Z2, Z3])\n",
    "                        elif (Y1 == Y2 > Y3) and (Z1 == Z2 > Z3):\n",
    "                            cases_3v3[\"Y1 = Y2 > Y3, Z1 = Z2 > Z3\"].append([Y1, Y2, Y3, Z1, Z2, Z3])\n",
    "                        elif (Y1 == Y2 > Y3) and (Z1 > Z2 == Z3):\n",
    "                            cases_3v3[\"Y1 = Y2 > Y3, Z1 > Z2 = Z3\"].append([Y1, Y2, Y3, Z1, Z2, Z3])\n",
    "                        elif (Y1 == Y2 > Y3) and (Z1 > Z2 > Z3):\n",
    "                            cases_3v3[\"Y1 = Y2 > Y3, Z1 > Z2 > Z3\"].append([Y1, Y2, Y3, Z1, Z2, Z3])\n",
    "                        elif (Y1 > Y2 == Y3) and (Z1 == Z2 > Z3):\n",
    "                            cases_3v3[\"Y1 > Y2 = Y3, Z1 = Z2 > Z3\"].append([Y1, Y2, Y3, Z1, Z2, Z3])\n",
    "                        elif (Y1 > Y2 == Y3) and (Z1 > Z2 == Z3):\n",
    "                            cases_3v3[\"Y1 > Y2 = Y3, Z1 > Z2 = Z3\"].append([Y1, Y2, Y3, Z1, Z2, Z3])\n",
    "                        elif (Y1 > Y2 == Y3) and (Z1 > Z2 > Z3):\n",
    "                            cases_3v3[\"Y1 > Y2 = Y3, Z1 > Z2 > Z3\"].append([Y1, Y2, Y3, Z1, Z2, Z3])\n",
    "                        elif (Y1 > Y2 > Y3) and (Z1 == Z2 > Z3):\n",
    "                            cases_3v3[\"Y1 > Y2 > Y3, Z1 = Z2 > Z3\"].append([Y1, Y2, Y3, Z1, Z2, Z3])\n",
    "                        elif (Y1 > Y2 > Y3) and (Z1 > Z2 == Z3):\n",
    "                            cases_3v3[\"Y1 > Y2 > Y3, Z1 > Z2 = Z3\"].append([Y1, Y2, Y3, Z1, Z2, Z3])\n",
    "                        elif (Y1 > Y2 > Y3) and (Z1 > Z2 > Z3):\n",
    "                            cases_3v3[\"Y1 > Y2 > Y3, Z1 > Z2 > Z3\"].append([Y1, Y2, Y3, Z1, Z2, Z3])\n",
    "\n"
   ]
  },
  {
   "cell_type": "code",
   "execution_count": 6,
   "id": "dc601d81",
   "metadata": {},
   "outputs": [
    {
     "data": {
      "text/plain": [
       "array([0.13760288, 0.21469907, 0.26466049, 0.38303755])"
      ]
     },
     "execution_count": 6,
     "metadata": {},
     "output_type": "execute_result"
    }
   ],
   "source": [
    "cases_prob_3v3 = {\n",
    "    \"Y1 = Y2 = Y3, Z1 = Z2 = Z3\": 1/6**3 * 1/6**3,\n",
    "    \"Y1 = Y2 > Y3, Z1 = Z2 = Z3\": 3/6**3 * 1/6**3,\n",
    "    \"Y1 > Y2 = Y3, Z1 = Z2 = Z3\": 3/6**3 * 1/6**3,\n",
    "    \"Y1 > Y2 > Y3, Z1 = Z2 = Z3\": 6/6**3 * 1/6**3,\n",
    "    \"Y1 = Y2 = Y3, Z1 = Z2 > Z3\": 1/6**3 * 3/6**3,\n",
    "    \"Y1 = Y2 = Y3, Z1 > Z2 = Z3\": 1/6**3 * 3/6**3,\n",
    "    \"Y1 = Y2 = Y3, Z1 > Z2 > Z3\": 1/6**3 * 6/6**3,\n",
    "    \"Y1 = Y2 > Y3, Z1 = Z2 > Z3\": 3/6**3 * 3/6**3,\n",
    "    \"Y1 = Y2 > Y3, Z1 > Z2 = Z3\": 3/6**3 * 3/6**3,\n",
    "    \"Y1 = Y2 > Y3, Z1 > Z2 > Z3\": 3/6**3 * 6/6**3,\n",
    "    \"Y1 > Y2 = Y3, Z1 = Z2 > Z3\": 3/6**3 * 3/6**3,\n",
    "    \"Y1 > Y2 = Y3, Z1 > Z2 = Z3\": 3/6**3 * 3/6**3,\n",
    "    \"Y1 > Y2 = Y3, Z1 > Z2 > Z3\": 3/6**3 * 6/6**3,\n",
    "    \"Y1 > Y2 > Y3, Z1 = Z2 > Z3\": 6/6**3 * 3/6**3,\n",
    "    \"Y1 > Y2 > Y3, Z1 > Z2 = Z3\": 6/6**3 * 3/6**3,\n",
    "    \"Y1 > Y2 > Y3, Z1 > Z2 > Z3\": 6/6**3 * 6/6**3\n",
    "}\n",
    "\n",
    "p3v3 = 0\n",
    "for case, values in cases_3v3.items():\n",
    "    p3v3 += count3v3(values) * cases_prob_3v3[case]\n",
    "p3v3"
   ]
  },
  {
   "cell_type": "markdown",
   "id": "d0feb76b",
   "metadata": {},
   "source": [
    "# 2vs3"
   ]
  },
  {
   "cell_type": "code",
   "execution_count": 7,
   "id": "ae7863b1",
   "metadata": {},
   "outputs": [],
   "source": [
    "cases_2v3 = {\n",
    "    \"Y1 = Y2, Z1 = Z2 = Z3\": [],\n",
    "    \"Y1 > Y2, Z1 = Z2 = Z3\": [],\n",
    "    \"Y1 = Y2, Z1 = Z2 > Z3\": [],\n",
    "    \"Y1 = Y2, Z1 > Z2 = Z3\": [],\n",
    "    \"Y1 = Y2, Z1 > Z2 > Z3\": [],\n",
    "    \"Y1 > Y2, Z1 = Z2 > Z3\": [],\n",
    "    \"Y1 > Y2, Z1 > Z2 = Z3\": [],\n",
    "    \"Y1 > Y2, Z1 > Z2 > Z3\": []\n",
    "}\n",
    "\n",
    "for Y1 in range(1, 7):\n",
    "    for Y2 in range(1, 7):\n",
    "        for Z1 in range(1, 7):\n",
    "            for Z2 in range(1, 7):\n",
    "                for Z3 in range(1, 7):\n",
    "                    if (Y1 == Y2) and (Z1 == Z2 == Z3):\n",
    "                        cases_2v3[\"Y1 = Y2, Z1 = Z2 = Z3\"].append([Y1, Y2, Z1, Z2, Z3])\n",
    "                    elif (Y1 > Y2) and (Z1 == Z2 == Z3):\n",
    "                        cases_2v3[\"Y1 > Y2, Z1 = Z2 = Z3\"].append([Y1, Y2, Z1, Z2, Z3])\n",
    "                    elif (Y1 == Y2) and (Z1 == Z2 > Z3):\n",
    "                        cases_2v3[\"Y1 = Y2, Z1 = Z2 > Z3\"].append([Y1, Y2, Z1, Z2, Z3])\n",
    "                    elif (Y1 == Y2) and (Z1 > Z2 == Z3):\n",
    "                        cases_2v3[\"Y1 = Y2, Z1 > Z2 = Z3\"].append([Y1, Y2, Z1, Z2, Z3])\n",
    "                    elif (Y1 == Y2) and (Z1 > Z2 > Z3):\n",
    "                        cases_2v3[\"Y1 = Y2, Z1 > Z2 > Z3\"].append([Y1, Y2, Z1, Z2, Z3])\n",
    "                    elif (Y1 > Y2) and (Z1 == Z2 > Z3):\n",
    "                        cases_2v3[\"Y1 > Y2, Z1 = Z2 > Z3\"].append([Y1, Y2, Z1, Z2, Z3])\n",
    "                    elif (Y1 > Y2) and (Z1 > Z2 == Z3):\n",
    "                        cases_2v3[\"Y1 > Y2, Z1 > Z2 = Z3\"].append([Y1, Y2, Z1, Z2, Z3])\n",
    "                    elif (Y1 > Y2) and (Z1 > Z2 > Z3):\n",
    "                        cases_2v3[\"Y1 > Y2, Z1 > Z2 > Z3\"].append([Y1, Y2, Z1, Z2, Z3])"
   ]
  },
  {
   "cell_type": "code",
   "execution_count": 8,
   "id": "9424e2c7",
   "metadata": {},
   "outputs": [],
   "source": [
    "def count2v2(rolls):\n",
    "    rolls = np.asarray(rolls)\n",
    "    A1, A2, D1, D2, D3 = rolls.T\n",
    "    G2 = np.sum((A1 > D1) & (A2 > D2))\n",
    "    G1 = np.sum(\n",
    "        (A1 <= D1) & (A2 > D2) |\n",
    "        (A1 > D1) & (A2 <= D2)\n",
    "    )\n",
    "    G0 = np.sum((A1 <= D1) & (A2 <= D2))\n",
    "    return np.array([G2, G1, G0])"
   ]
  },
  {
   "cell_type": "code",
   "execution_count": 9,
   "id": "12044f43",
   "metadata": {},
   "outputs": [
    {
     "data": {
      "text/plain": [
       "array([0.12590021, 0.25475823, 0.61934156])"
      ]
     },
     "execution_count": 9,
     "metadata": {},
     "output_type": "execute_result"
    }
   ],
   "source": [
    "cases_prob_2v3 = {\n",
    "    \"Y1 = Y2, Z1 = Z2 = Z3\": 1/6**2 * 1/6**3,\n",
    "    \"Y1 > Y2, Z1 = Z2 = Z3\": 2/6**2 * 1/6**3,\n",
    "    \"Y1 = Y2, Z1 = Z2 > Z3\": 1/6**2 * 3/6**3,\n",
    "    \"Y1 = Y2, Z1 > Z2 = Z3\": 1/6**2 * 3/6**3,\n",
    "    \"Y1 = Y2, Z1 > Z2 > Z3\": 1/6**2 * 6/6**3,\n",
    "    \"Y1 > Y2, Z1 = Z2 > Z3\": 2/6**2 * 3/6**3,\n",
    "    \"Y1 > Y2, Z1 > Z2 = Z3\": 2/6**2 * 3/6**3,\n",
    "    \"Y1 > Y2, Z1 > Z2 > Z3\": 2/6**2 * 6/6**3\n",
    "}\n",
    "\n",
    "p2v3 = 0\n",
    "for case, values in cases_2v3.items():\n",
    "    p2v3 += count2v2(values) * cases_prob_2v3[case]\n",
    "p2v3"
   ]
  },
  {
   "cell_type": "markdown",
   "id": "2d46bbad",
   "metadata": {},
   "source": [
    "# Markov"
   ]
  },
  {
   "cell_type": "code",
   "execution_count": 2,
   "id": "a8ab6dd3",
   "metadata": {},
   "outputs": [],
   "source": [
    "def getProbability(armies_attacker, armies_defender, armies_won, max_dice_defender):\n",
    "    probabilities = {\n",
    "        (1, 1, 1): 15/36,        # π111\n",
    "        (1, 1, 0): 21/36,        # π110\n",
    "        (1, 2, 1): 55/216,       # π121\n",
    "        (1, 2, 0): 161/216,      # π120\n",
    "        (1, 3, 1): 25/144,       # π131 Mio\n",
    "        (1, 3, 0): 119/144,      # π130 Mio\n",
    "\n",
    "        (2, 1, 1): 125/216,      # π211\n",
    "        (2, 1, 0): 91/216,       # π210\n",
    "        (2, 2, 2): 295/1296,     # π222\n",
    "        (2, 2, 1): 420/1296,     # π221\n",
    "        (2, 2, 0): 581/1296,     # π220\n",
    "        (2, 3, 2): 0.12590021,   # π232\n",
    "        (2, 3, 1): 0.25475823,   # π231\n",
    "        (2, 3, 0): 0.61934156,   # π230\n",
    "\n",
    "        (3, 1, 1): 855/1296,     # π311\n",
    "        (3, 1, 0): 441/1296,     # π310\n",
    "        (3, 2, 2): 2890/7776,    # π322\n",
    "        (3, 2, 1): 2611/7776,    # π321\n",
    "        (3, 2, 0): 2275/7776,    # π320\n",
    "        (3, 3, 3): 0.1376028807, # π333\n",
    "        (3, 3, 2): 0.2146990741, # π332\n",
    "        (3, 3, 1): 0.2646604938, # π331\n",
    "        (3, 3, 0): 0.3830375514, # π330\n",
    "    }\n",
    "    if armies_attacker > 3:\n",
    "        armies_attacker = 3\n",
    "    if armies_defender > max_dice_defender: # Regla de TEG vs RISK\n",
    "        armies_defender = max_dice_defender\n",
    "    return probabilities[(armies_attacker, armies_defender, armies_won)]\n",
    "\n",
    "def getMatrixEntries(current_state, post_state, max_dice_defender):\n",
    "    attacker_dices_current, defender_dices_current = current_state\n",
    "    attacker_dices_post, defender_dices_post = post_state\n",
    "    armies_won = defender_dices_current - defender_dices_post\n",
    "    armies_lost = attacker_dices_current - attacker_dices_post\n",
    "    if armies_won < 0  or armies_lost < 0 or (armies_lost + armies_won) != min(min(attacker_dices_current, 3), min(defender_dices_current, max_dice_defender)) or (armies_lost + armies_won > 3): # Regla de TEG vs RISK\n",
    "        return 0\n",
    "    else:\n",
    "        return getProbability(attacker_dices_current, defender_dices_current, armies_won, max_dice_defender)"
   ]
  },
  {
   "cell_type": "code",
   "execution_count": 21,
   "id": "7d60630c",
   "metadata": {},
   "outputs": [],
   "source": [
    "class TEG:\n",
    "    def __init__(self, max_armies_atacker, max_armies_defender, max_dice_defender=3):\n",
    "        self.max_armies_atacker = max_armies_atacker\n",
    "        self.max_armies_defender = max_armies_defender\n",
    "        self.max_dice_defender = max_dice_defender\n",
    "\n",
    "        self.transient_states, self.absorbing_states = self.getStates()\n",
    "        self.Q, self.R = self.getMatrixQ(), self.getMatrixR()\n",
    "        self.S = self.getMatrixS()\n",
    "\n",
    "\n",
    "    def getStates(self):\n",
    "        transient_states = []\n",
    "        absorbing_states = []\n",
    "        for i in range(1, self.max_armies_atacker+1):\n",
    "            for j in range(1, self.max_armies_defender+1):\n",
    "                transient_states.append((i, j))\n",
    "        for i in range(1, self.max_armies_atacker+1):\n",
    "            absorbing_states.append((i, 0))\n",
    "        for j in range(1, self.max_armies_defender+1):\n",
    "            absorbing_states.append((0, j)) \n",
    "        return transient_states, absorbing_states\n",
    "    \n",
    "    def getMatrixQ(self):\n",
    "        Q = np.zeros((self.max_armies_atacker * self.max_armies_defender, self.max_armies_atacker * self.max_armies_defender))\n",
    "        for i, transient_state_1 in enumerate(self.transient_states):\n",
    "            for j, transient_state_2 in enumerate(self.transient_states):\n",
    "                Q[i, j] = getMatrixEntries(transient_state_1, transient_state_2, self.max_dice_defender)\n",
    "        return Q\n",
    "    \n",
    "    def getMatrixR(self):\n",
    "        R = np.zeros((self.max_armies_atacker * self.max_armies_defender, self.max_armies_atacker + self.max_armies_defender))\n",
    "        for i, transient_state in enumerate(self.transient_states):\n",
    "            for j, absorbing_state in enumerate(self.absorbing_states):\n",
    "                R[i, j] = getMatrixEntries(transient_state, absorbing_state, self.max_dice_defender)\n",
    "        return R\n",
    "    \n",
    "    def getMatrixS(self):\n",
    "        I = np.identity(self.Q.shape[0])\n",
    "        return np.matmul(np.linalg.inv(I - self.Q), self.R)\n",
    "    \n",
    "    def getWinningProbability(self, armies_attacker, armies_defender):\n",
    "        i = self.transient_states.index((armies_attacker, armies_defender))\n",
    "        return self.S[i][:armies_attacker].sum()\n",
    "    \n",
    "    def getMatrixP(self):\n",
    "        P = np.zeros((self.max_armies_atacker, self.max_armies_defender))\n",
    "        for armies_attacker in range(self.max_armies_atacker):\n",
    "            for armies_defender in range(self.max_armies_defender):\n",
    "                P[armies_attacker, armies_defender] = self.getWinningProbability(armies_attacker+1, armies_defender+1)\n",
    "        return P"
   ]
  },
  {
   "cell_type": "markdown",
   "id": "0a6f51ad",
   "metadata": {},
   "source": [
    "# Plot"
   ]
  },
  {
   "cell_type": "code",
   "execution_count": 4,
   "id": "0ce1ef3e",
   "metadata": {},
   "outputs": [],
   "source": [
    "params = {\n",
    "    'figure.figsize': (11, 6),\n",
    "    'font.size': 18,\n",
    "    'axes.grid': True,\n",
    "    'grid.linestyle': ':',\n",
    "    'grid.linewidth': 0.5,\n",
    "    'axes.axisbelow': True,\n",
    "    'legend.fontsize': 20,\n",
    "    'xtick.labelsize': 20,\n",
    "    'ytick.labelsize': 20\n",
    "}\n",
    "\n",
    "plt.rcParams.update(params)"
   ]
  },
  {
   "cell_type": "code",
   "execution_count": 23,
   "id": "8c47c0fe",
   "metadata": {},
   "outputs": [],
   "source": [
    "max_armies_attacker = 30\n",
    "max_armies_defender = 30\n",
    "\n",
    "teg = TEG(max_armies_attacker, max_armies_defender)\n",
    "risk = TEG(max_armies_attacker, max_armies_defender, 2)"
   ]
  },
  {
   "cell_type": "code",
   "execution_count": 24,
   "id": "58967921",
   "metadata": {},
   "outputs": [],
   "source": [
    "P_teg = teg.getMatrixP()\n",
    "P_risk = risk.getMatrixP()"
   ]
  },
  {
   "cell_type": "code",
   "execution_count": 43,
   "id": "e4ae6c60",
   "metadata": {},
   "outputs": [
    {
     "data": {
      "image/png": "[encoded data removed]",
      "text/plain": [
       "<Figure size 1100x600 with 1 Axes>"
      ]
     },
     "metadata": {},
     "output_type": "display_data"
    }
   ],
   "source": [
    "equal_armies_curve = np.diag(P_risk)\n",
    "armies_defender = np.arange(1, max_armies_defender + 1)\n",
    "\n",
    "plt.plot(armies_defender, np.diag(P_risk), color='red', label='Risk')\n",
    "plt.plot(armies_defender, np.diag(P_risk), 'X', color='black')\n",
    "\n",
    "plt.plot(armies_defender, np.diag(P_teg), color='blue', label='TEG')\n",
    "plt.plot(armies_defender, np.diag(P_teg), 'X', color='black')\n",
    "\n",
    "# for i in armies_defender:\n",
    "#     i = i-1\n",
    "#     if i % 10 == 0:\n",
    "#         plt.plot(armies_defender, P_teg[i, :], 'd', color='blue')\n",
    "#         plt.plot(armies_defender, P_teg[i, :], color='blue')\n",
    "#         plt.plot(armies_defender, P_risk[i, :], 'd', color='red')\n",
    "#         plt.plot(armies_defender, P_risk[i, :], color='red')\n",
    "\n",
    "plt.xlabel('Ejércitos defensores')\n",
    "plt.ylabel('Probabilidad de ganar (%)')\n",
    "plt.legend()\n",
    "plt.show()"
   ]
  }
 ],
 "metadata": {
  "kernelspec": {
   "display_name": "Python 3 (ipykernel)",
   "language": "python",
   "name": "python3"
  },
  "language_info": {
   "codemirror_mode": {
    "name": "ipython",
    "version": 3
   },
   "file_extension": ".py",
   "mimetype": "text/x-python",
   "name": "python",
   "nbconvert_exporter": "python",
   "pygments_lexer": "ipython3",
   "version": "3.11.7"
  }
 },
 "nbformat": 4,
 "nbformat_minor": 5
}
