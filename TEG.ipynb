{
 "cells": [
  {
   "cell_type": "code",
   "execution_count": 1,
   "id": "df1f7c3d",
   "metadata": {},
   "outputs": [],
   "source": [
    "import numpy as np\n",
    "import matplotlib.pyplot as plt "
   ]
  },
  {
   "cell_type": "code",
   "execution_count": 62,
   "id": "72257511",
   "metadata": {},
   "outputs": [],
   "source": [
    "def simteg(dicesAttacker, dicesDefendant, N=1000000):\n",
    "    a = np.random.randint(1,7,[dicesAttacker,N])\n",
    "    d = np.random.randint(1,7,[dicesDefendant,N])\n",
    "    \n",
    "    a_sorted = np.sort(a, axis=0)[-dicesDefendant:]\n",
    "    d_sorted = np.sort(d, axis=0)[-dicesAttacker:]\n",
    "    \n",
    "    wins = np.all(a_sorted > d_sorted, axis=0).sum()\n",
    "    return wins/N"
   ]
  },
  {
   "cell_type": "markdown",
   "id": "506cdc51",
   "metadata": {},
   "source": [
    "# 3vs3"
   ]
  },
  {
   "cell_type": "code",
   "execution_count": 2,
   "id": "09981c40",
   "metadata": {},
   "outputs": [],
   "source": [
    "rolls = []\n",
    "for A1 in range(1,7):\n",
    "    for A2 in range(1,7):\n",
    "        for A3 in range(1,7):\n",
    "            for D1 in range(1,7):\n",
    "                for D2 in range(1,7):\n",
    "                    for D3 in range(1,7):\n",
    "                        if A1 > A2 and A2 > A3 and D1 > D2 and D2 > D3:\n",
    "                            rolls.append([A1, A2, A3, D1, D2, D3])\n",
    "rolls = np.array(rolls)"
   ]
  },
  {
   "cell_type": "code",
   "execution_count": 6,
   "id": "0ada7c15",
   "metadata": {},
   "outputs": [
    {
     "data": {
      "text/plain": [
       "array([ 50,  77,  98, 175])"
      ]
     },
     "execution_count": 6,
     "metadata": {},
     "output_type": "execute_result"
    }
   ],
   "source": [
    "def count3v3(rolls):\n",
    "    rolls = np.asarray(rolls)\n",
    "    A1, A2, A3, D1, D2, D3 = rolls.T\n",
    "    G3 = np.sum((A1 > D1) & (A2 > D2) & (A3 > D3))\n",
    "    G2 = np.sum(\n",
    "        (A1 <= D1) & (A2 > D2) & (A3 > D3) |\n",
    "        (A1 > D1) & (A2 <= D2) & (A3 > D3) |\n",
    "        (A1 > D1) & (A2 > D2) & (A3 <= D3)\n",
    "    )\n",
    "    G1 = np.sum(\n",
    "        (A1 <= D1) & (A2 <= D2) & (A3 > D3) |\n",
    "        (A1 <= D1) & (A2 > D2) & (A3 <= D3) |\n",
    "        (A1 > D1) & (A2 <= D2) & (A3 <= D3)\n",
    "    )\n",
    "    G0 = np.sum((A1 <= D1) & (A2 <= D2) & (A3 <= D3))\n",
    "    return np.array([G3, G2, G1, G0])\n",
    "\n",
    "count3v3(rolls)\n"
   ]
  },
  {
   "cell_type": "code",
   "execution_count": 7,
   "id": "026a11ea",
   "metadata": {},
   "outputs": [],
   "source": [
    "cases_3v3 = {\n",
    "    \"Y1 = Y2 = Y3, Z1 = Z2 = Z3\": [],\n",
    "    \"Y1 = Y2 > Y3, Z1 = Z2 = Z3\": [],\n",
    "    \"Y1 > Y2 = Y3, Z1 = Z2 = Z3\": [],\n",
    "    \"Y1 > Y2 > Y3, Z1 = Z2 = Z3\": [],\n",
    "    \"Y1 = Y2 = Y3, Z1 = Z2 > Z3\": [],\n",
    "    \"Y1 = Y2 = Y3, Z1 > Z2 = Z3\": [],\n",
    "    \"Y1 = Y2 = Y3, Z1 > Z2 > Z3\": [],\n",
    "    \"Y1 = Y2 > Y3, Z1 = Z2 > Z3\": [],\n",
    "    \"Y1 = Y2 > Y3, Z1 > Z2 = Z3\": [],\n",
    "    \"Y1 = Y2 > Y3, Z1 > Z2 > Z3\": [],\n",
    "    \"Y1 > Y2 = Y3, Z1 = Z2 > Z3\": [],\n",
    "    \"Y1 > Y2 = Y3, Z1 > Z2 = Z3\": [],\n",
    "    \"Y1 > Y2 = Y3, Z1 > Z2 > Z3\": [],\n",
    "    \"Y1 > Y2 > Y3, Z1 = Z2 > Z3\": [],\n",
    "    \"Y1 > Y2 > Y3, Z1 > Z2 = Z3\": [],\n",
    "    \"Y1 > Y2 > Y3, Z1 > Z2 > Z3\": []\n",
    "}\n",
    "\n",
    "for Y1 in range(1, 7):\n",
    "    for Y2 in range(1, 7):\n",
    "        for Y3 in range(1, 7):\n",
    "            for Z1 in range(1, 7):\n",
    "                for Z2 in range(1, 7):\n",
    "                    for Z3 in range(1, 7):\n",
    "\n",
    "                        if (Y1 == Y2 == Y3) and (Z1 == Z2 == Z3):\n",
    "                            cases_3v3[\"Y1 = Y2 = Y3, Z1 = Z2 = Z3\"].append([Y1, Y2, Y3, Z1, Z2, Z3])\n",
    "                        elif (Y1 == Y2 > Y3) and (Z1 == Z2 == Z3):\n",
    "                            cases_3v3[\"Y1 = Y2 > Y3, Z1 = Z2 = Z3\"].append([Y1, Y2, Y3, Z1, Z2, Z3])\n",
    "                        elif (Y1 > Y2 == Y3) and (Z1 == Z2 == Z3):\n",
    "                            cases_3v3[\"Y1 > Y2 = Y3, Z1 = Z2 = Z3\"].append([Y1, Y2, Y3, Z1, Z2, Z3])\n",
    "                        elif (Y1 > Y2 > Y3) and (Z1 == Z2 == Z3):\n",
    "                            cases_3v3[\"Y1 > Y2 > Y3, Z1 = Z2 = Z3\"].append([Y1, Y2, Y3, Z1, Z2, Z3])\n",
    "                        elif (Y1 == Y2 == Y3) and (Z1 == Z2 > Z3):\n",
    "                            cases_3v3[\"Y1 = Y2 = Y3, Z1 = Z2 > Z3\"].append([Y1, Y2, Y3, Z1, Z2, Z3])\n",
    "                        elif (Y1 == Y2 == Y3) and (Z1 > Z2 == Z3):\n",
    "                            cases_3v3[\"Y1 = Y2 = Y3, Z1 > Z2 = Z3\"].append([Y1, Y2, Y3, Z1, Z2, Z3])\n",
    "                        elif (Y1 == Y2 == Y3) and (Z1 > Z2 > Z3):\n",
    "                            cases_3v3[\"Y1 = Y2 = Y3, Z1 > Z2 > Z3\"].append([Y1, Y2, Y3, Z1, Z2, Z3])\n",
    "                        elif (Y1 == Y2 > Y3) and (Z1 == Z2 > Z3):\n",
    "                            cases_3v3[\"Y1 = Y2 > Y3, Z1 = Z2 > Z3\"].append([Y1, Y2, Y3, Z1, Z2, Z3])\n",
    "                        elif (Y1 == Y2 > Y3) and (Z1 > Z2 == Z3):\n",
    "                            cases_3v3[\"Y1 = Y2 > Y3, Z1 > Z2 = Z3\"].append([Y1, Y2, Y3, Z1, Z2, Z3])\n",
    "                        elif (Y1 == Y2 > Y3) and (Z1 > Z2 > Z3):\n",
    "                            cases_3v3[\"Y1 = Y2 > Y3, Z1 > Z2 > Z3\"].append([Y1, Y2, Y3, Z1, Z2, Z3])\n",
    "                        elif (Y1 > Y2 == Y3) and (Z1 == Z2 > Z3):\n",
    "                            cases_3v3[\"Y1 > Y2 = Y3, Z1 = Z2 > Z3\"].append([Y1, Y2, Y3, Z1, Z2, Z3])\n",
    "                        elif (Y1 > Y2 == Y3) and (Z1 > Z2 == Z3):\n",
    "                            cases_3v3[\"Y1 > Y2 = Y3, Z1 > Z2 = Z3\"].append([Y1, Y2, Y3, Z1, Z2, Z3])\n",
    "                        elif (Y1 > Y2 == Y3) and (Z1 > Z2 > Z3):\n",
    "                            cases_3v3[\"Y1 > Y2 = Y3, Z1 > Z2 > Z3\"].append([Y1, Y2, Y3, Z1, Z2, Z3])\n",
    "                        elif (Y1 > Y2 > Y3) and (Z1 == Z2 > Z3):\n",
    "                            cases_3v3[\"Y1 > Y2 > Y3, Z1 = Z2 > Z3\"].append([Y1, Y2, Y3, Z1, Z2, Z3])\n",
    "                        elif (Y1 > Y2 > Y3) and (Z1 > Z2 == Z3):\n",
    "                            cases_3v3[\"Y1 > Y2 > Y3, Z1 > Z2 = Z3\"].append([Y1, Y2, Y3, Z1, Z2, Z3])\n",
    "                        elif (Y1 > Y2 > Y3) and (Z1 > Z2 > Z3):\n",
    "                            cases_3v3[\"Y1 > Y2 > Y3, Z1 > Z2 > Z3\"].append([Y1, Y2, Y3, Z1, Z2, Z3])\n",
    "\n"
   ]
  },
  {
   "cell_type": "code",
   "execution_count": 9,
   "id": "dc601d81",
   "metadata": {},
   "outputs": [
    {
     "data": {
      "text/plain": [
       "array([0.13760288, 0.21469907, 0.26466049, 0.38303755])"
      ]
     },
     "execution_count": 9,
     "metadata": {},
     "output_type": "execute_result"
    }
   ],
   "source": [
    "cases_prob_3v3 = {\n",
    "    \"Y1 = Y2 = Y3, Z1 = Z2 = Z3\": 1/6**3 * 1/6**3,\n",
    "    \"Y1 = Y2 > Y3, Z1 = Z2 = Z3\": 3/6**3 * 1/6**3,\n",
    "    \"Y1 > Y2 = Y3, Z1 = Z2 = Z3\": 3/6**3 * 1/6**3,\n",
    "    \"Y1 > Y2 > Y3, Z1 = Z2 = Z3\": 6/6**3 * 1/6**3,\n",
    "    \"Y1 = Y2 = Y3, Z1 = Z2 > Z3\": 1/6**3 * 3/6**3,\n",
    "    \"Y1 = Y2 = Y3, Z1 > Z2 = Z3\": 1/6**3 * 3/6**3,\n",
    "    \"Y1 = Y2 = Y3, Z1 > Z2 > Z3\": 1/6**3 * 6/6**3,\n",
    "    \"Y1 = Y2 > Y3, Z1 = Z2 > Z3\": 3/6**3 * 3/6**3,\n",
    "    \"Y1 = Y2 > Y3, Z1 > Z2 = Z3\": 3/6**3 * 3/6**3,\n",
    "    \"Y1 = Y2 > Y3, Z1 > Z2 > Z3\": 3/6**3 * 6/6**3,\n",
    "    \"Y1 > Y2 = Y3, Z1 = Z2 > Z3\": 3/6**3 * 3/6**3,\n",
    "    \"Y1 > Y2 = Y3, Z1 > Z2 = Z3\": 3/6**3 * 3/6**3,\n",
    "    \"Y1 > Y2 = Y3, Z1 > Z2 > Z3\": 3/6**3 * 6/6**3,\n",
    "    \"Y1 > Y2 > Y3, Z1 = Z2 > Z3\": 6/6**3 * 3/6**3,\n",
    "    \"Y1 > Y2 > Y3, Z1 > Z2 = Z3\": 6/6**3 * 3/6**3,\n",
    "    \"Y1 > Y2 > Y3, Z1 > Z2 > Z3\": 6/6**3 * 6/6**3\n",
    "}\n",
    "\n",
    "p3v3 = 0\n",
    "for case, values in cases_3v3.items():\n",
    "    p3v3 += count3v3(values) * cases_prob_3v3[case]\n",
    "p3v3"
   ]
  },
  {
   "cell_type": "markdown",
   "id": "d0feb76b",
   "metadata": {},
   "source": [
    "# 2vs3"
   ]
  },
  {
   "cell_type": "code",
   "execution_count": 11,
   "id": "ae7863b1",
   "metadata": {},
   "outputs": [],
   "source": [
    "cases_2v3 = {\n",
    "    \"Y1 = Y2, Z1 = Z2 = Z3\": [],\n",
    "    \"Y1 > Y2, Z1 = Z2 = Z3\": [],\n",
    "    \"Y1 = Y2, Z1 = Z2 > Z3\": [],\n",
    "    \"Y1 = Y2, Z1 > Z2 = Z3\": [],\n",
    "    \"Y1 = Y2, Z1 > Z2 > Z3\": [],\n",
    "    \"Y1 > Y2, Z1 = Z2 > Z3\": [],\n",
    "    \"Y1 > Y2, Z1 > Z2 = Z3\": [],\n",
    "    \"Y1 > Y2, Z1 > Z2 > Z3\": []\n",
    "}\n",
    "\n",
    "for Y1 in range(1, 7):\n",
    "    for Y2 in range(1, 7):\n",
    "        for Z1 in range(1, 7):\n",
    "            for Z2 in range(1, 7):\n",
    "                for Z3 in range(1, 7):\n",
    "                    if (Y1 == Y2) and (Z1 == Z2 == Z3):\n",
    "                        cases_2v3[\"Y1 = Y2, Z1 = Z2 = Z3\"].append([Y1, Y2, Z1, Z2, Z3])\n",
    "                    elif (Y1 > Y2) and (Z1 == Z2 == Z3):\n",
    "                        cases_2v3[\"Y1 > Y2, Z1 = Z2 = Z3\"].append([Y1, Y2, Z1, Z2, Z3])\n",
    "                    elif (Y1 == Y2) and (Z1 == Z2 > Z3):\n",
    "                        cases_2v3[\"Y1 = Y2, Z1 = Z2 > Z3\"].append([Y1, Y2, Z1, Z2, Z3])\n",
    "                    elif (Y1 == Y2) and (Z1 > Z2 == Z3):\n",
    "                        cases_2v3[\"Y1 = Y2, Z1 > Z2 = Z3\"].append([Y1, Y2, Z1, Z2, Z3])\n",
    "                    elif (Y1 == Y2) and (Z1 > Z2 > Z3):\n",
    "                        cases_2v3[\"Y1 = Y2, Z1 > Z2 > Z3\"].append([Y1, Y2, Z1, Z2, Z3])\n",
    "                    elif (Y1 > Y2) and (Z1 == Z2 > Z3):\n",
    "                        cases_2v3[\"Y1 > Y2, Z1 = Z2 > Z3\"].append([Y1, Y2, Z1, Z2, Z3])\n",
    "                    elif (Y1 > Y2) and (Z1 > Z2 == Z3):\n",
    "                        cases_2v3[\"Y1 > Y2, Z1 > Z2 = Z3\"].append([Y1, Y2, Z1, Z2, Z3])\n",
    "                    elif (Y1 > Y2) and (Z1 > Z2 > Z3):\n",
    "                        cases_2v3[\"Y1 > Y2, Z1 > Z2 > Z3\"].append([Y1, Y2, Z1, Z2, Z3])"
   ]
  },
  {
   "cell_type": "code",
   "execution_count": 12,
   "id": "9424e2c7",
   "metadata": {},
   "outputs": [],
   "source": [
    "def count2v2(rolls):\n",
    "    rolls = np.asarray(rolls)\n",
    "    A1, A2, D1, D2, D3 = rolls.T\n",
    "    G2 = np.sum((A1 > D1) & (A2 > D2))\n",
    "    G1 = np.sum(\n",
    "        (A1 <= D1) & (A2 > D2) |\n",
    "        (A1 > D1) & (A2 <= D2)\n",
    "    )\n",
    "    G0 = np.sum((A1 <= D1) & (A2 <= D2))\n",
    "    return np.array([G2, G1, G0])"
   ]
  },
  {
   "cell_type": "code",
   "execution_count": 15,
   "id": "12044f43",
   "metadata": {},
   "outputs": [
    {
     "data": {
      "text/plain": [
       "array([0.12590021, 0.25475823, 0.61934156])"
      ]
     },
     "execution_count": 15,
     "metadata": {},
     "output_type": "execute_result"
    }
   ],
   "source": [
    "cases_prob_2v3 = {\n",
    "    \"Y1 = Y2, Z1 = Z2 = Z3\": 1/6**2 * 1/6**3,\n",
    "    \"Y1 > Y2, Z1 = Z2 = Z3\": 2/6**2 * 1/6**3,\n",
    "    \"Y1 = Y2, Z1 = Z2 > Z3\": 1/6**2 * 3/6**3,\n",
    "    \"Y1 = Y2, Z1 > Z2 = Z3\": 1/6**2 * 3/6**3,\n",
    "    \"Y1 = Y2, Z1 > Z2 > Z3\": 1/6**2 * 6/6**3,\n",
    "    \"Y1 > Y2, Z1 = Z2 > Z3\": 2/6**2 * 3/6**3,\n",
    "    \"Y1 > Y2, Z1 > Z2 = Z3\": 2/6**2 * 3/6**3,\n",
    "    \"Y1 > Y2, Z1 > Z2 > Z3\": 2/6**2 * 6/6**3\n",
    "}\n",
    "\n",
    "p2v3 = 0\n",
    "for case, values in cases_2v3.items():\n",
    "    p2v3 += count2v2(values) * cases_prob_2v3[case]\n",
    "p2v3"
   ]
  },
  {
   "cell_type": "markdown",
   "id": "2d46bbad",
   "metadata": {},
   "source": [
    "# Markov"
   ]
  },
  {
   "cell_type": "code",
   "execution_count": 24,
   "id": "58f35816",
   "metadata": {},
   "outputs": [],
   "source": [
    "global defender_max_armies"
   ]
  },
  {
   "cell_type": "code",
   "execution_count": 25,
   "id": "c0acd376",
   "metadata": {},
   "outputs": [],
   "source": [
    "def getProbability(armies_attacker, armies_defender, armies_won):\n",
    "    probabilities = {\n",
    "        (1, 1, 1): 15/36,        # π111\n",
    "        (1, 1, 0): 21/36,        # π110\n",
    "        (1, 2, 1): 55/216,       # π121\n",
    "        (1, 2, 0): 161/216,      # π120\n",
    "        (1, 3, 1): 25/144,       # π131 Mio\n",
    "        (1, 3, 0): 119/144,      # π130 Mio\n",
    "\n",
    "        (2, 1, 1): 125/216,      # π211\n",
    "        (2, 1, 0): 91/216,       # π210\n",
    "        (2, 2, 2): 295/1296,     # π222\n",
    "        (2, 2, 1): 420/1296,     # π221\n",
    "        (2, 2, 0): 581/1296,     # π220\n",
    "        (2, 3, 2): 0.12590021,   # π232\n",
    "        (2, 3, 1): 0.25475823,   # π231\n",
    "        (2, 3, 0): 0.61934156,   # π230\n",
    "\n",
    "        (3, 1, 1): 855/1296,     # π311\n",
    "        (3, 1, 0): 441/1296,     # π310\n",
    "        (3, 2, 2): 2890/7776,    # π322\n",
    "        (3, 2, 1): 2611/7776,    # π321\n",
    "        (3, 2, 0): 2275/7776,    # π320\n",
    "        (3, 3, 3): 0.1376028807, # π333\n",
    "        (3, 3, 2): 0.2146990741, # π332\n",
    "        (3, 3, 1): 0.2646604938, # π331\n",
    "        (3, 3, 0): 0.3830375514, # π330\n",
    "    }\n",
    "    if armies_attacker > 3:\n",
    "        armies_attacker = 3\n",
    "    if armies_defender > defender_max_armies: # Regla de TEG vs RISK\n",
    "        armies_defender = defender_max_armies\n",
    "    return probabilities[(armies_attacker, armies_defender, armies_won)]\n"
   ]
  },
  {
   "cell_type": "code",
   "execution_count": 26,
   "id": "fb263e50",
   "metadata": {},
   "outputs": [],
   "source": [
    "def getStates(armies_attacker, armies_defender):\n",
    "    transient_states = []\n",
    "    absorbing_states = []\n",
    "\n",
    "    for i in range(1, armies_attacker+1):\n",
    "        for j in range(1, armies_defender+1):\n",
    "            transient_states.append((i, j))\n",
    "\n",
    "    for i in range(1, armies_attacker+1):\n",
    "        absorbing_states.append((i, 0))\n",
    "    for j in range(1, armies_defender+1):\n",
    "        absorbing_states.append((0, j)) \n",
    "    \n",
    "    return transient_states, absorbing_states"
   ]
  },
  {
   "cell_type": "code",
   "execution_count": 27,
   "id": "80d2a68e",
   "metadata": {},
   "outputs": [],
   "source": [
    "def getMatrixEntries(current_state, post_state):\n",
    "    attacker_dices_current, defender_dices_current = current_state\n",
    "    attacker_dices_post, defender_dices_post = post_state\n",
    "    armies_won = defender_dices_current - defender_dices_post\n",
    "    armies_lost = attacker_dices_current - attacker_dices_post\n",
    "    if armies_won < 0  or armies_lost < 0 or (armies_lost + armies_won) != min(min(attacker_dices_current, 3), min(defender_dices_current, defender_max_armies)) or (armies_lost + armies_won > 3): # Regla de TEG vs RISK\n",
    "        return 0\n",
    "    else:\n",
    "        return getProbability(attacker_dices_current, defender_dices_current, armies_won)"
   ]
  },
  {
   "cell_type": "code",
   "execution_count": 28,
   "id": "91f2d7b4",
   "metadata": {},
   "outputs": [],
   "source": [
    "def getMatrixR(armies_attacker, armies_defender):\n",
    "    R = np.zeros((armies_attacker * armies_defender, armies_attacker + armies_defender))\n",
    "    transient_states, absorbing_states = getStates(armies_attacker, armies_defender)\n",
    "\n",
    "    for i, transient_state in enumerate(transient_states):\n",
    "        for j, absorbing_state in enumerate(absorbing_states):\n",
    "            R[i, j] = getMatrixEntries(transient_state, absorbing_state)\n",
    "    return R"
   ]
  },
  {
   "cell_type": "code",
   "execution_count": 29,
   "id": "4f4e4c0c",
   "metadata": {},
   "outputs": [],
   "source": [
    "def getMatrixQ(armies_attacker, armies_defender):\n",
    "    Q = np.zeros((armies_attacker * armies_defender, armies_attacker * armies_defender))\n",
    "    transient_states, _ = getStates(armies_attacker, armies_defender)\n",
    "\n",
    "    for i, transient_state_1 in enumerate(transient_states):\n",
    "        for j, transient_state_2 in enumerate(transient_states):\n",
    "            Q[i, j] = getMatrixEntries(transient_state_1, transient_state_2)\n",
    "    return Q"
   ]
  },
  {
   "cell_type": "code",
   "execution_count": 30,
   "id": "101a6ad2",
   "metadata": {},
   "outputs": [],
   "source": [
    "def getMatrixS(Q, R):\n",
    "    I = np.identity(Q.shape[0])\n",
    "    return np.matmul(np.linalg.inv(I - Q), R)\n"
   ]
  },
  {
   "cell_type": "code",
   "execution_count": 31,
   "id": "b5490f66",
   "metadata": {},
   "outputs": [],
   "source": [
    "def calculateWiningProbability(armies_attacker, armies_defender):\n",
    "    Q = getMatrixQ(armies_attacker, armies_defender)\n",
    "    R = getMatrixR(armies_attacker, armies_defender)\n",
    "    S = getMatrixS(Q, R)\n",
    "    wining_probability = S[-1:][0][:armies_attacker].sum()\n",
    "    return wining_probability "
   ]
  },
  {
   "cell_type": "code",
   "execution_count": 62,
   "id": "10353772",
   "metadata": {},
   "outputs": [],
   "source": [
    "def getMatrixP(armies_attacker, armies_defender):\n",
    "    P = np.zeros((armies_attacker, armies_defender))\n",
    "    for A in range(armies_attacker):\n",
    "        for D in range(armies_defender):\n",
    "            P[A, D] = calculateWiningProbability(A+1, D+1)\n",
    "    return P"
   ]
  },
  {
   "cell_type": "code",
   "execution_count": 52,
   "id": "bc62618a",
   "metadata": {},
   "outputs": [],
   "source": [
    "armies_attacker = 30\n",
    "armies_defender = 30\n",
    "defender_max_armies = 3\n",
    "\n",
    "P = getMatrixP(armies_attacker,armies_defender)"
   ]
  },
  {
   "cell_type": "code",
   "execution_count": 53,
   "id": "eb82953c",
   "metadata": {},
   "outputs": [
    {
     "name": "stdout",
     "output_type": "stream",
     "text": [
      "Attacker ↓ / Defender →\n",
      "\n",
      "   |   1  |   2  |   3  |   4  |   5  |   6  |   7  |   8  |   9  |   10  |   11  |   12  |   13  |   14  |   15  |   16  |   17  |   18  |   19  |   20  |\n",
      "----\n",
      " 1 | 0.417 | 0.106 | 0.018 | 0.003 | 0.001 | 0.000 | 0.000 | 0.000 | 0.000 | 0.000 | 0.000 | 0.000 | 0.000 | 0.000 | 0.000 | 0.000 | 0.000 | 0.000 | 0.000 | 0.000 |\n",
      "----\n",
      " 2 | 0.754 | 0.363 | 0.122 | 0.050 | 0.016 | 0.006 | 0.002 | 0.001 | 0.000 | 0.000 | 0.000 | 0.000 | 0.000 | 0.000 | 0.000 | 0.000 | 0.000 | 0.000 | 0.000 | 0.000 |\n",
      "----\n",
      " 3 | 0.916 | 0.656 | 0.328 | 0.209 | 0.117 | 0.056 | 0.032 | 0.018 | 0.008 | 0.005 | 0.002 | 0.001 | 0.001 | 0.000 | 0.000 | 0.000 | 0.000 | 0.000 | 0.000 | 0.000 |\n",
      "----\n",
      " 4 | 0.972 | 0.785 | 0.437 | 0.308 | 0.192 | 0.109 | 0.069 | 0.039 | 0.022 | 0.013 | 0.007 | 0.004 | 0.002 | 0.001 | 0.001 | 0.000 | 0.000 | 0.000 | 0.000 | 0.000 |\n",
      "----\n",
      " 5 | 0.990 | 0.890 | 0.567 | 0.411 | 0.278 | 0.178 | 0.113 | 0.071 | 0.044 | 0.026 | 0.016 | 0.010 | 0.005 | 0.003 | 0.002 | 0.001 | 0.001 | 0.000 | 0.000 | 0.000 |\n",
      "----\n",
      " 6 | 0.997 | 0.934 | 0.684 | 0.524 | 0.377 | 0.255 | 0.173 | 0.115 | 0.073 | 0.047 | 0.030 | 0.018 | 0.011 | 0.007 | 0.004 | 0.002 | 0.001 | 0.001 | 0.001 | 0.000 |\n",
      "----\n",
      " 7 | 0.999 | 0.967 | 0.755 | 0.606 | 0.462 | 0.332 | 0.238 | 0.163 | 0.110 | 0.074 | 0.048 | 0.031 | 0.020 | 0.012 | 0.008 | 0.005 | 0.003 | 0.002 | 0.001 | 0.001 |\n",
      "----\n",
      " 8 | 1.000 | 0.980 | 0.816 | 0.683 | 0.542 | 0.410 | 0.304 | 0.219 | 0.155 | 0.106 | 0.072 | 0.049 | 0.032 | 0.021 | 0.014 | 0.008 | 0.005 | 0.003 | 0.002 | 0.001 |\n",
      "----\n",
      " 9 | 1.000 | 0.990 | 0.870 | 0.748 | 0.616 | 0.486 | 0.373 | 0.280 | 0.203 | 0.145 | 0.103 | 0.070 | 0.048 | 0.033 | 0.021 | 0.014 | 0.009 | 0.006 | 0.004 | 0.002 |\n",
      "----\n",
      " 10 | 1.000 | 0.994 | 0.901 | 0.798 | 0.681 | 0.555 | 0.442 | 0.341 | 0.257 | 0.190 | 0.137 | 0.097 | 0.069 | 0.047 | 0.032 | 0.022 | 0.014 | 0.010 | 0.006 | 0.004 |\n",
      "----\n",
      " 11 | 1.000 | 0.997 | 0.927 | 0.843 | 0.736 | 0.619 | 0.507 | 0.403 | 0.313 | 0.238 | 0.177 | 0.130 | 0.093 | 0.066 | 0.046 | 0.032 | 0.022 | 0.015 | 0.010 | 0.007 |\n",
      "----\n",
      " 12 | 1.000 | 0.998 | 0.949 | 0.877 | 0.784 | 0.678 | 0.569 | 0.465 | 0.370 | 0.288 | 0.221 | 0.165 | 0.122 | 0.089 | 0.063 | 0.045 | 0.032 | 0.022 | 0.015 | 0.010 |\n",
      "----\n",
      " 13 | 1.000 | 0.999 | 0.961 | 0.903 | 0.825 | 0.728 | 0.626 | 0.524 | 0.427 | 0.342 | 0.267 | 0.205 | 0.155 | 0.115 | 0.084 | 0.061 | 0.043 | 0.031 | 0.022 | 0.015 |\n",
      "----\n",
      " 14 | 1.000 | 1.000 | 0.972 | 0.926 | 0.858 | 0.772 | 0.678 | 0.579 | 0.484 | 0.395 | 0.315 | 0.248 | 0.191 | 0.145 | 0.109 | 0.080 | 0.058 | 0.042 | 0.030 | 0.021 |\n",
      "----\n",
      " 15 | 1.000 | 1.000 | 0.980 | 0.942 | 0.885 | 0.812 | 0.724 | 0.631 | 0.538 | 0.448 | 0.366 | 0.293 | 0.230 | 0.179 | 0.136 | 0.102 | 0.076 | 0.056 | 0.040 | 0.029 |\n",
      "----\n",
      " 16 | 1.000 | 1.000 | 0.985 | 0.955 | 0.909 | 0.844 | 0.765 | 0.680 | 0.589 | 0.500 | 0.416 | 0.339 | 0.272 | 0.215 | 0.167 | 0.128 | 0.096 | 0.072 | 0.053 | 0.039 |\n",
      "----\n",
      " 17 | 1.000 | 1.000 | 0.989 | 0.966 | 0.927 | 0.871 | 0.803 | 0.722 | 0.637 | 0.550 | 0.465 | 0.387 | 0.316 | 0.253 | 0.201 | 0.156 | 0.120 | 0.091 | 0.068 | 0.051 |\n",
      "----\n",
      " 18 | 1.000 | 1.000 | 0.992 | 0.974 | 0.942 | 0.896 | 0.834 | 0.761 | 0.682 | 0.597 | 0.514 | 0.434 | 0.360 | 0.294 | 0.236 | 0.187 | 0.147 | 0.113 | 0.086 | 0.065 |\n",
      "----\n",
      " 19 | 1.000 | 1.000 | 0.994 | 0.980 | 0.955 | 0.915 | 0.861 | 0.797 | 0.721 | 0.642 | 0.561 | 0.480 | 0.405 | 0.336 | 0.274 | 0.221 | 0.175 | 0.137 | 0.107 | 0.081 |\n",
      "----\n",
      " 20 | 1.000 | 1.000 | 0.996 | 0.985 | 0.964 | 0.930 | 0.885 | 0.826 | 0.758 | 0.684 | 0.605 | 0.526 | 0.450 | 0.379 | 0.314 | 0.256 | 0.206 | 0.165 | 0.129 | 0.100 |\n",
      "----\n"
     ]
    }
   ],
   "source": [
    "# Print the table\n",
    "print(\"Attacker ↓ / Defender →\\n\")\n",
    "print(\"   |\", end=\"\")\n",
    "for D in range(armies_defender):\n",
    "    print(f\"   {D + 1}  |\", end=\"\")\n",
    "print()\n",
    "\n",
    "print(\"----\")\n",
    "\n",
    "for A in range(armies_attacker):\n",
    "    print(f\" {A + 1} |\", end=\"\")\n",
    "    for D in range(armies_defender):\n",
    "        print(f\" {P[A, D]:5.3f} |\", end=\"\")\n",
    "    print(\"\\n----\")"
   ]
  },
  {
   "cell_type": "code",
   "execution_count": 45,
   "id": "0ce1ef3e",
   "metadata": {},
   "outputs": [],
   "source": [
    "params = {\n",
    "    'figure.figsize': (11, 6),\n",
    "    'font.size': 18,\n",
    "    'axes.grid': True,\n",
    "    'grid.linestyle': ':',\n",
    "    'grid.linewidth': 0.5,\n",
    "    'axes.axisbelow': True,\n",
    "    'legend.fontsize': 20,\n",
    "    'xtick.labelsize': 20,\n",
    "    'ytick.labelsize': 20\n",
    "}\n",
    "\n",
    "plt.rcParams.update(params)"
   ]
  },
  {
   "cell_type": "code",
   "execution_count": 64,
   "id": "cbbc7028",
   "metadata": {},
   "outputs": [],
   "source": [
    "defender_max_armies = 3\n",
    "P_teg = getMatrixP(armies_attacker, armies_defender) * 100\n",
    "defender_max_armies = 2\n",
    "P_risk = getMatrixP(armies_attacker, armies_defender, 2) * 100\n",
    "\n",
    "#for A in range(armies_attacker):\n",
    "#    if A % 2 == 0:\n",
    "#        plt.plot(range(1, armies_defender + 1), P_teg[A, :], label=f'Attacking Armies = {A + 1}')\n"
   ]
  },
  {
   "cell_type": "code",
   "execution_count": 65,
   "id": "a04eafec",
   "metadata": {},
   "outputs": [
    {
     "data": {
      "image/png": "[encoded data removed]",
      "text/plain": [
       "<Figure size 1100x600 with 1 Axes>"
      ]
     },
     "metadata": {},
     "output_type": "display_data"
    }
   ],
   "source": [
    "equal_armies_curve = np.diag(P_risk)\n",
    "plt.plot(range(1, len(equal_armies_curve) + 1), equal_armies_curve, color='red', label='Risk')\n",
    "plt.plot(range(1, len(equal_armies_curve) + 1), equal_armies_curve, 'X', color='black')\n",
    "equal_armies_curve = np.diag(P_teg)\n",
    "plt.plot(range(1, len(equal_armies_curve) + 1), equal_armies_curve, color='blue', label='TEG')\n",
    "plt.plot(range(1, len(equal_armies_curve) + 1), equal_armies_curve, 'X', color='black')\n",
    "\n",
    "\n",
    "\n",
    "\n",
    "# Add labels and title\n",
    "plt.xlabel('Ejércitos defensores')\n",
    "plt.ylabel('Probabilidad de ganar (%)')\n",
    "plt.legend()\n",
    "plt.show()"
   ]
  },
  {
   "cell_type": "code",
   "execution_count": null,
   "id": "59ac8ae9",
   "metadata": {},
   "outputs": [],
   "source": []
  }
 ],
 "metadata": {
  "kernelspec": {
   "display_name": "Python 3 (ipykernel)",
   "language": "python",
   "name": "python3"
  },
  "language_info": {
   "codemirror_mode": {
    "name": "ipython",
    "version": 3
   },
   "file_extension": ".py",
   "mimetype": "text/x-python",
   "name": "python",
   "nbconvert_exporter": "python",
   "pygments_lexer": "ipython3",
   "version": "3.11.7"
  }
 },
 "nbformat": 4,
 "nbformat_minor": 5
}
